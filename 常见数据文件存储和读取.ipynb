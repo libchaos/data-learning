{
 "metadata": {
  "language_info": {
   "codemirror_mode": {
    "name": "ipython",
    "version": 3
   },
   "file_extension": ".py",
   "mimetype": "text/x-python",
   "name": "python",
   "nbconvert_exporter": "python",
   "pygments_lexer": "ipython3",
   "version": "3.8.5-final"
  },
  "orig_nbformat": 2,
  "kernelspec": {
   "name": "python3",
   "display_name": "Python 3.8.5 64-bit (conda)",
   "metadata": {
    "interpreter": {
     "hash": "7b4b4feff2f24a0f0a34464dbe537a36fda679851528fb8735cb41fa49dffb2d"
    }
   }
  }
 },
 "nbformat": 4,
 "nbformat_minor": 2,
 "cells": [
  {
   "source": [
    "# excel 和 csv文件的读取"
   ],
   "cell_type": "markdown",
   "metadata": {}
  },
  {
   "cell_type": "code",
   "execution_count": 1,
   "metadata": {},
   "outputs": [],
   "source": [
    "import numpy as np\n",
    "import pandas as pd"
   ]
  },
  {
   "cell_type": "code",
   "execution_count": 2,
   "metadata": {},
   "outputs": [],
   "source": [
    "df = pd.DataFrame({\"A\": np.random.randn(10), \"B\":np.random.randn(10)})"
   ]
  },
  {
   "cell_type": "code",
   "execution_count": 3,
   "metadata": {},
   "outputs": [
    {
     "output_type": "execute_result",
     "data": {
      "text/plain": [
       "          A         B\n",
       "0 -1.459112 -1.671652\n",
       "1 -1.045118 -0.121517\n",
       "2  0.548257  0.529985\n",
       "3 -1.533987  0.122127\n",
       "4  2.264588  0.493395\n",
       "5 -0.699995 -0.185165\n",
       "6 -1.397462  0.229197\n",
       "7 -1.067475 -0.947378\n",
       "8 -0.500637 -0.294995\n",
       "9 -2.686852 -0.563211"
      ],
      "text/html": "<div>\n<style scoped>\n    .dataframe tbody tr th:only-of-type {\n        vertical-align: middle;\n    }\n\n    .dataframe tbody tr th {\n        vertical-align: top;\n    }\n\n    .dataframe thead th {\n        text-align: right;\n    }\n</style>\n<table border=\"1\" class=\"dataframe\">\n  <thead>\n    <tr style=\"text-align: right;\">\n      <th></th>\n      <th>A</th>\n      <th>B</th>\n    </tr>\n  </thead>\n  <tbody>\n    <tr>\n      <th>0</th>\n      <td>-1.459112</td>\n      <td>-1.671652</td>\n    </tr>\n    <tr>\n      <th>1</th>\n      <td>-1.045118</td>\n      <td>-0.121517</td>\n    </tr>\n    <tr>\n      <th>2</th>\n      <td>0.548257</td>\n      <td>0.529985</td>\n    </tr>\n    <tr>\n      <th>3</th>\n      <td>-1.533987</td>\n      <td>0.122127</td>\n    </tr>\n    <tr>\n      <th>4</th>\n      <td>2.264588</td>\n      <td>0.493395</td>\n    </tr>\n    <tr>\n      <th>5</th>\n      <td>-0.699995</td>\n      <td>-0.185165</td>\n    </tr>\n    <tr>\n      <th>6</th>\n      <td>-1.397462</td>\n      <td>0.229197</td>\n    </tr>\n    <tr>\n      <th>7</th>\n      <td>-1.067475</td>\n      <td>-0.947378</td>\n    </tr>\n    <tr>\n      <th>8</th>\n      <td>-0.500637</td>\n      <td>-0.294995</td>\n    </tr>\n    <tr>\n      <th>9</th>\n      <td>-2.686852</td>\n      <td>-0.563211</td>\n    </tr>\n  </tbody>\n</table>\n</div>"
     },
     "metadata": {},
     "execution_count": 3
    }
   ],
   "source": [
    "df"
   ]
  },
  {
   "cell_type": "code",
   "execution_count": 4,
   "metadata": {},
   "outputs": [],
   "source": [
    "df.to_csv(\"test.csv\", index=None)"
   ]
  },
  {
   "cell_type": "code",
   "execution_count": 5,
   "metadata": {},
   "outputs": [],
   "source": [
    "df.to_excel(\"test.xlsx\", index=None)"
   ]
  },
  {
   "cell_type": "code",
   "execution_count": 6,
   "metadata": {},
   "outputs": [
    {
     "output_type": "execute_result",
     "data": {
      "text/plain": [
       "          A         B\n",
       "0 -1.459112 -1.671652\n",
       "1 -1.045118 -0.121517\n",
       "2  0.548257  0.529985\n",
       "3 -1.533987  0.122127\n",
       "4  2.264588  0.493395\n",
       "5 -0.699995 -0.185165\n",
       "6 -1.397462  0.229197\n",
       "7 -1.067475 -0.947378\n",
       "8 -0.500637 -0.294995\n",
       "9 -2.686852 -0.563211"
      ],
      "text/html": "<div>\n<style scoped>\n    .dataframe tbody tr th:only-of-type {\n        vertical-align: middle;\n    }\n\n    .dataframe tbody tr th {\n        vertical-align: top;\n    }\n\n    .dataframe thead th {\n        text-align: right;\n    }\n</style>\n<table border=\"1\" class=\"dataframe\">\n  <thead>\n    <tr style=\"text-align: right;\">\n      <th></th>\n      <th>A</th>\n      <th>B</th>\n    </tr>\n  </thead>\n  <tbody>\n    <tr>\n      <th>0</th>\n      <td>-1.459112</td>\n      <td>-1.671652</td>\n    </tr>\n    <tr>\n      <th>1</th>\n      <td>-1.045118</td>\n      <td>-0.121517</td>\n    </tr>\n    <tr>\n      <th>2</th>\n      <td>0.548257</td>\n      <td>0.529985</td>\n    </tr>\n    <tr>\n      <th>3</th>\n      <td>-1.533987</td>\n      <td>0.122127</td>\n    </tr>\n    <tr>\n      <th>4</th>\n      <td>2.264588</td>\n      <td>0.493395</td>\n    </tr>\n    <tr>\n      <th>5</th>\n      <td>-0.699995</td>\n      <td>-0.185165</td>\n    </tr>\n    <tr>\n      <th>6</th>\n      <td>-1.397462</td>\n      <td>0.229197</td>\n    </tr>\n    <tr>\n      <th>7</th>\n      <td>-1.067475</td>\n      <td>-0.947378</td>\n    </tr>\n    <tr>\n      <th>8</th>\n      <td>-0.500637</td>\n      <td>-0.294995</td>\n    </tr>\n    <tr>\n      <th>9</th>\n      <td>-2.686852</td>\n      <td>-0.563211</td>\n    </tr>\n  </tbody>\n</table>\n</div>"
     },
     "metadata": {},
     "execution_count": 6
    }
   ],
   "source": [
    "pd.read_csv(\"test.csv\")"
   ]
  },
  {
   "cell_type": "code",
   "execution_count": 7,
   "metadata": {},
   "outputs": [
    {
     "output_type": "execute_result",
     "data": {
      "text/plain": [
       "          A         B\n",
       "0 -1.459112 -1.671652\n",
       "1 -1.045118 -0.121517\n",
       "2  0.548257  0.529985\n",
       "3 -1.533987  0.122127\n",
       "4  2.264588  0.493395\n",
       "5 -0.699995 -0.185165\n",
       "6 -1.397462  0.229197\n",
       "7 -1.067475 -0.947378\n",
       "8 -0.500637 -0.294995\n",
       "9 -2.686852 -0.563211"
      ],
      "text/html": "<div>\n<style scoped>\n    .dataframe tbody tr th:only-of-type {\n        vertical-align: middle;\n    }\n\n    .dataframe tbody tr th {\n        vertical-align: top;\n    }\n\n    .dataframe thead th {\n        text-align: right;\n    }\n</style>\n<table border=\"1\" class=\"dataframe\">\n  <thead>\n    <tr style=\"text-align: right;\">\n      <th></th>\n      <th>A</th>\n      <th>B</th>\n    </tr>\n  </thead>\n  <tbody>\n    <tr>\n      <th>0</th>\n      <td>-1.459112</td>\n      <td>-1.671652</td>\n    </tr>\n    <tr>\n      <th>1</th>\n      <td>-1.045118</td>\n      <td>-0.121517</td>\n    </tr>\n    <tr>\n      <th>2</th>\n      <td>0.548257</td>\n      <td>0.529985</td>\n    </tr>\n    <tr>\n      <th>3</th>\n      <td>-1.533987</td>\n      <td>0.122127</td>\n    </tr>\n    <tr>\n      <th>4</th>\n      <td>2.264588</td>\n      <td>0.493395</td>\n    </tr>\n    <tr>\n      <th>5</th>\n      <td>-0.699995</td>\n      <td>-0.185165</td>\n    </tr>\n    <tr>\n      <th>6</th>\n      <td>-1.397462</td>\n      <td>0.229197</td>\n    </tr>\n    <tr>\n      <th>7</th>\n      <td>-1.067475</td>\n      <td>-0.947378</td>\n    </tr>\n    <tr>\n      <th>8</th>\n      <td>-0.500637</td>\n      <td>-0.294995</td>\n    </tr>\n    <tr>\n      <th>9</th>\n      <td>-2.686852</td>\n      <td>-0.563211</td>\n    </tr>\n  </tbody>\n</table>\n</div>"
     },
     "metadata": {},
     "execution_count": 7
    }
   ],
   "source": [
    "pd.read_excel(\"test.xlsx\")"
   ]
  },
  {
   "source": [
    "上面的表格中，相信你最熟悉的是 Excel 表格数据文件。由于 Excel 表格有最大的行数储存限制（16,384 列 × 1,048,576 行），所以更多时候我们会使用 CSV 来储存表格数据"
   ],
   "cell_type": "markdown",
   "metadata": {}
  },
  {
   "cell_type": "code",
   "execution_count": 12,
   "metadata": {},
   "outputs": [],
   "source": [
    "chunker = pd.read_csv(\"test.csv\", chunksize=2)"
   ]
  },
  {
   "cell_type": "code",
   "execution_count": 13,
   "metadata": {},
   "outputs": [
    {
     "output_type": "stream",
     "name": "stdout",
     "text": [
      "          A         B\n0 -1.459112 -1.671652\n1 -1.045118 -0.121517\n          A         B\n2  0.548257  0.529985\n3 -1.533987  0.122127\n          A         B\n4  2.264588  0.493395\n5 -0.699995 -0.185165\n          A         B\n6 -1.397462  0.229197\n7 -1.067475 -0.947378\n          A         B\n8 -0.500637 -0.294995\n9 -2.686852 -0.563211\n"
     ]
    }
   ],
   "source": [
    "for chunk in chunker:\n",
    "    print(chunk)"
   ]
  },
  {
   "source": [
    "## JSON\n",
    "- JSON 数据中 key 必须是字符串类型，缺失值用 null 表示。其中还可能包含的基本类型有：字典，列表，字符串，数值，布尔值等。"
   ],
   "cell_type": "markdown",
   "metadata": {}
  },
  {
   "cell_type": "code",
   "execution_count": 17,
   "metadata": {},
   "outputs": [],
   "source": [
    "obj = \"\"\" \n",
    "[\n",
    "    {\n",
    "        \"aqi\": 46,\n",
    "        \"area\": \"成都\",\n",
    "        \"pm2_5\": 32,\n",
    "        \"pm2_5_24h\": 33,\n",
    "        \"position_name\": \"金泉两河\",\n",
    "        \"primary_pollutant\": null,\n",
    "        \"quality\": \"优\",\n",
    "        \"station_code\": \"1431A\",\n",
    "        \"time_point\": \"2018-09-05T09:00:00Z\"\n",
    "    },\n",
    "    {\n",
    "        \"aqi\": 29,\n",
    "        \"area\": \"成都\",\n",
    "        \"pm2_5\": 20,\n",
    "        \"pm2_5_24h\": 26,\n",
    "        \"position_name\": \"十里店\",\n",
    "        \"primary_pollutant\": null,\n",
    "        \"quality\": \"优\",\n",
    "        \"station_code\": \"1432A\",\n",
    "        \"time_point\": \"2018-09-05T09:00:00Z\"\n",
    "    }\n",
    "]\n",
    "\"\"\""
   ]
  },
  {
   "cell_type": "code",
   "execution_count": 18,
   "metadata": {},
   "outputs": [
    {
     "output_type": "execute_result",
     "data": {
      "text/plain": [
       "   aqi area  pm2_5  pm2_5_24h position_name  primary_pollutant quality  \\\n",
       "0   46   成都     32         33          金泉两河                NaN       优   \n",
       "1   29   成都     20         26           十里店                NaN       优   \n",
       "\n",
       "  station_code            time_point  \n",
       "0        1431A  2018-09-05T09:00:00Z  \n",
       "1        1432A  2018-09-05T09:00:00Z  "
      ],
      "text/html": "<div>\n<style scoped>\n    .dataframe tbody tr th:only-of-type {\n        vertical-align: middle;\n    }\n\n    .dataframe tbody tr th {\n        vertical-align: top;\n    }\n\n    .dataframe thead th {\n        text-align: right;\n    }\n</style>\n<table border=\"1\" class=\"dataframe\">\n  <thead>\n    <tr style=\"text-align: right;\">\n      <th></th>\n      <th>aqi</th>\n      <th>area</th>\n      <th>pm2_5</th>\n      <th>pm2_5_24h</th>\n      <th>position_name</th>\n      <th>primary_pollutant</th>\n      <th>quality</th>\n      <th>station_code</th>\n      <th>time_point</th>\n    </tr>\n  </thead>\n  <tbody>\n    <tr>\n      <th>0</th>\n      <td>46</td>\n      <td>成都</td>\n      <td>32</td>\n      <td>33</td>\n      <td>金泉两河</td>\n      <td>NaN</td>\n      <td>优</td>\n      <td>1431A</td>\n      <td>2018-09-05T09:00:00Z</td>\n    </tr>\n    <tr>\n      <th>1</th>\n      <td>29</td>\n      <td>成都</td>\n      <td>20</td>\n      <td>26</td>\n      <td>十里店</td>\n      <td>NaN</td>\n      <td>优</td>\n      <td>1432A</td>\n      <td>2018-09-05T09:00:00Z</td>\n    </tr>\n  </tbody>\n</table>\n</div>"
     },
     "metadata": {},
     "execution_count": 18
    }
   ],
   "source": [
    "pd.read_json(obj)"
   ]
  },
  {
   "cell_type": "code",
   "execution_count": null,
   "metadata": {},
   "outputs": [],
   "source": []
  }
 ]
}