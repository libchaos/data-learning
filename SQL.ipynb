{
 "metadata": {
  "language_info": {
   "codemirror_mode": {
    "name": "ipython",
    "version": 3
   },
   "file_extension": ".py",
   "mimetype": "text/x-python",
   "name": "python",
   "nbconvert_exporter": "python",
   "pygments_lexer": "ipython3",
   "version": "3.8.5-final"
  },
  "orig_nbformat": 2,
  "kernelspec": {
   "name": "python3",
   "display_name": "Python 3.8.5 64-bit (conda)",
   "metadata": {
    "interpreter": {
     "hash": "7b4b4feff2f24a0f0a34464dbe537a36fda679851528fb8735cb41fa49dffb2d"
    }
   }
  }
 },
 "nbformat": 4,
 "nbformat_minor": 2,
 "cells": [
  {
   "source": [
    "## SQLite\n",
    "SQLite 是数据分析过程中非常推荐的数据库，当你需要备份或分享数据时，无需导入导出，直接将 SQLite 存储的 .sqlite 文件拷贝即可。"
   ],
   "cell_type": "markdown",
   "metadata": {}
  },
  {
   "cell_type": "code",
   "execution_count": 1,
   "metadata": {},
   "outputs": [],
   "source": [
    "import os\n",
    "import sqlite3\n",
    "import pandas as pd\n",
    "import numpy as np\n",
    "\n",
    "# 如果目录下已存在 SQLite 数据库，执行删除避免重复运行报错\n",
    "if os.path.exists('test.sqlite'):\n",
    "    os.remove('test.sqlite')"
   ]
  },
  {
   "cell_type": "code",
   "execution_count": 2,
   "metadata": {},
   "outputs": [
    {
     "output_type": "execute_result",
     "data": {
      "text/plain": [
       "<sqlite3.Connection at 0x21835668030>"
      ]
     },
     "metadata": {},
     "execution_count": 2
    }
   ],
   "source": [
    "sql_con = sqlite3.connect('test.sqlite')  # 连接数据库\n",
    "sql_con"
   ]
  },
  {
   "cell_type": "code",
   "execution_count": 3,
   "metadata": {},
   "outputs": [],
   "source": [
    "# 生成示例数据\n",
    "df = pd.DataFrame({'A': np.random.randn(50), 'B': np.random.randn(50)})\n",
    "\n",
    "# 向数据库中写入示例数据，表名为 test_table\n",
    "df.to_sql(name='test_table', con=sql_con, index=None)\n",
    "sql_con.close()  # 关闭连接"
   ]
  },
  {
   "cell_type": "code",
   "execution_count": 4,
   "metadata": {},
   "outputs": [
    {
     "output_type": "execute_result",
     "data": {
      "text/plain": [
       "True"
      ]
     },
     "metadata": {},
     "execution_count": 4
    }
   ],
   "source": [
    "os.path.exists('test.sqlite')"
   ]
  },
  {
   "cell_type": "code",
   "execution_count": 5,
   "metadata": {},
   "outputs": [
    {
     "output_type": "execute_result",
     "data": {
      "text/plain": [
       "           A         B\n",
       "0   0.597388 -2.319723\n",
       "1  -0.392672  0.069767\n",
       "2   0.184211 -0.679173\n",
       "3   0.955975  1.052736\n",
       "4  -1.035391  0.314428\n",
       "5   1.162253  0.589540\n",
       "6   1.330540 -0.179466\n",
       "7  -0.619661  0.343326\n",
       "8  -0.908465 -1.965349\n",
       "9   0.769694  1.400953\n",
       "10 -1.787281 -0.379313\n",
       "11  0.044043  0.134024\n",
       "12 -0.410933  2.229547\n",
       "13 -0.389729  0.379011\n",
       "14 -1.178236 -1.633289\n",
       "15  0.704586 -0.632675\n",
       "16 -0.007355  0.369774\n",
       "17 -1.744341 -1.294572\n",
       "18  0.711730 -0.702110\n",
       "19  0.151183  0.113757\n",
       "20  0.150495 -0.379253\n",
       "21  0.744420  1.207541\n",
       "22 -0.795601 -0.232296\n",
       "23  1.528988  0.918158\n",
       "24  0.683520  0.037413\n",
       "25  0.236367 -0.378949\n",
       "26  0.436187 -0.794397\n",
       "27  1.916298 -0.868352\n",
       "28 -0.392463  0.335979\n",
       "29 -0.912590 -0.516256\n",
       "30  1.606776  1.422332\n",
       "31 -0.584851 -0.192885\n",
       "32 -1.171854  0.584053\n",
       "33  0.177752 -1.203504\n",
       "34  0.428289  0.061348\n",
       "35 -0.368887  2.212610\n",
       "36  0.641664  0.125655\n",
       "37  1.051138  0.457863\n",
       "38 -0.843587 -0.294457\n",
       "39 -0.956226  0.351829\n",
       "40  0.985338 -1.720381\n",
       "41 -0.062957  0.604659\n",
       "42 -0.870100  1.119700\n",
       "43 -1.962631  0.338363\n",
       "44 -1.846141  0.840538\n",
       "45  0.075459  1.722441\n",
       "46 -1.072281 -1.117236\n",
       "47 -0.411479  0.144550\n",
       "48  0.651939  0.662779\n",
       "49  0.370736  0.885386"
      ],
      "text/html": "<div>\n<style scoped>\n    .dataframe tbody tr th:only-of-type {\n        vertical-align: middle;\n    }\n\n    .dataframe tbody tr th {\n        vertical-align: top;\n    }\n\n    .dataframe thead th {\n        text-align: right;\n    }\n</style>\n<table border=\"1\" class=\"dataframe\">\n  <thead>\n    <tr style=\"text-align: right;\">\n      <th></th>\n      <th>A</th>\n      <th>B</th>\n    </tr>\n  </thead>\n  <tbody>\n    <tr>\n      <th>0</th>\n      <td>0.597388</td>\n      <td>-2.319723</td>\n    </tr>\n    <tr>\n      <th>1</th>\n      <td>-0.392672</td>\n      <td>0.069767</td>\n    </tr>\n    <tr>\n      <th>2</th>\n      <td>0.184211</td>\n      <td>-0.679173</td>\n    </tr>\n    <tr>\n      <th>3</th>\n      <td>0.955975</td>\n      <td>1.052736</td>\n    </tr>\n    <tr>\n      <th>4</th>\n      <td>-1.035391</td>\n      <td>0.314428</td>\n    </tr>\n    <tr>\n      <th>5</th>\n      <td>1.162253</td>\n      <td>0.589540</td>\n    </tr>\n    <tr>\n      <th>6</th>\n      <td>1.330540</td>\n      <td>-0.179466</td>\n    </tr>\n    <tr>\n      <th>7</th>\n      <td>-0.619661</td>\n      <td>0.343326</td>\n    </tr>\n    <tr>\n      <th>8</th>\n      <td>-0.908465</td>\n      <td>-1.965349</td>\n    </tr>\n    <tr>\n      <th>9</th>\n      <td>0.769694</td>\n      <td>1.400953</td>\n    </tr>\n    <tr>\n      <th>10</th>\n      <td>-1.787281</td>\n      <td>-0.379313</td>\n    </tr>\n    <tr>\n      <th>11</th>\n      <td>0.044043</td>\n      <td>0.134024</td>\n    </tr>\n    <tr>\n      <th>12</th>\n      <td>-0.410933</td>\n      <td>2.229547</td>\n    </tr>\n    <tr>\n      <th>13</th>\n      <td>-0.389729</td>\n      <td>0.379011</td>\n    </tr>\n    <tr>\n      <th>14</th>\n      <td>-1.178236</td>\n      <td>-1.633289</td>\n    </tr>\n    <tr>\n      <th>15</th>\n      <td>0.704586</td>\n      <td>-0.632675</td>\n    </tr>\n    <tr>\n      <th>16</th>\n      <td>-0.007355</td>\n      <td>0.369774</td>\n    </tr>\n    <tr>\n      <th>17</th>\n      <td>-1.744341</td>\n      <td>-1.294572</td>\n    </tr>\n    <tr>\n      <th>18</th>\n      <td>0.711730</td>\n      <td>-0.702110</td>\n    </tr>\n    <tr>\n      <th>19</th>\n      <td>0.151183</td>\n      <td>0.113757</td>\n    </tr>\n    <tr>\n      <th>20</th>\n      <td>0.150495</td>\n      <td>-0.379253</td>\n    </tr>\n    <tr>\n      <th>21</th>\n      <td>0.744420</td>\n      <td>1.207541</td>\n    </tr>\n    <tr>\n      <th>22</th>\n      <td>-0.795601</td>\n      <td>-0.232296</td>\n    </tr>\n    <tr>\n      <th>23</th>\n      <td>1.528988</td>\n      <td>0.918158</td>\n    </tr>\n    <tr>\n      <th>24</th>\n      <td>0.683520</td>\n      <td>0.037413</td>\n    </tr>\n    <tr>\n      <th>25</th>\n      <td>0.236367</td>\n      <td>-0.378949</td>\n    </tr>\n    <tr>\n      <th>26</th>\n      <td>0.436187</td>\n      <td>-0.794397</td>\n    </tr>\n    <tr>\n      <th>27</th>\n      <td>1.916298</td>\n      <td>-0.868352</td>\n    </tr>\n    <tr>\n      <th>28</th>\n      <td>-0.392463</td>\n      <td>0.335979</td>\n    </tr>\n    <tr>\n      <th>29</th>\n      <td>-0.912590</td>\n      <td>-0.516256</td>\n    </tr>\n    <tr>\n      <th>30</th>\n      <td>1.606776</td>\n      <td>1.422332</td>\n    </tr>\n    <tr>\n      <th>31</th>\n      <td>-0.584851</td>\n      <td>-0.192885</td>\n    </tr>\n    <tr>\n      <th>32</th>\n      <td>-1.171854</td>\n      <td>0.584053</td>\n    </tr>\n    <tr>\n      <th>33</th>\n      <td>0.177752</td>\n      <td>-1.203504</td>\n    </tr>\n    <tr>\n      <th>34</th>\n      <td>0.428289</td>\n      <td>0.061348</td>\n    </tr>\n    <tr>\n      <th>35</th>\n      <td>-0.368887</td>\n      <td>2.212610</td>\n    </tr>\n    <tr>\n      <th>36</th>\n      <td>0.641664</td>\n      <td>0.125655</td>\n    </tr>\n    <tr>\n      <th>37</th>\n      <td>1.051138</td>\n      <td>0.457863</td>\n    </tr>\n    <tr>\n      <th>38</th>\n      <td>-0.843587</td>\n      <td>-0.294457</td>\n    </tr>\n    <tr>\n      <th>39</th>\n      <td>-0.956226</td>\n      <td>0.351829</td>\n    </tr>\n    <tr>\n      <th>40</th>\n      <td>0.985338</td>\n      <td>-1.720381</td>\n    </tr>\n    <tr>\n      <th>41</th>\n      <td>-0.062957</td>\n      <td>0.604659</td>\n    </tr>\n    <tr>\n      <th>42</th>\n      <td>-0.870100</td>\n      <td>1.119700</td>\n    </tr>\n    <tr>\n      <th>43</th>\n      <td>-1.962631</td>\n      <td>0.338363</td>\n    </tr>\n    <tr>\n      <th>44</th>\n      <td>-1.846141</td>\n      <td>0.840538</td>\n    </tr>\n    <tr>\n      <th>45</th>\n      <td>0.075459</td>\n      <td>1.722441</td>\n    </tr>\n    <tr>\n      <th>46</th>\n      <td>-1.072281</td>\n      <td>-1.117236</td>\n    </tr>\n    <tr>\n      <th>47</th>\n      <td>-0.411479</td>\n      <td>0.144550</td>\n    </tr>\n    <tr>\n      <th>48</th>\n      <td>0.651939</td>\n      <td>0.662779</td>\n    </tr>\n    <tr>\n      <th>49</th>\n      <td>0.370736</td>\n      <td>0.885386</td>\n    </tr>\n  </tbody>\n</table>\n</div>"
     },
     "metadata": {},
     "execution_count": 5
    }
   ],
   "source": [
    "sql_con = sqlite3.connect('test.sqlite')  # 建立数据库连接\n",
    "sql_query = \"SELECT * FROM test_table\"  # SQL 查询语句，查询 test_table 表中全部数据\n",
    "\n",
    "pd.read_sql(sql_query, sql_con)  # 执行查询并输出数据"
   ]
  },
  {
   "source": [
    "## SQL SELECT 语法\n",
    "- SQL 是用于访问和处理数据库的标准的计算机语言，如果你想从数据库中查询自己想要的数据，就必须学会 SQL 基础语法。当然，SQL 能做的不仅有「查询」，凡是涉及到数据库数据的「增删改查」都可以完成。\n",
    "\n",
    "- 本次实验中，我们对 SQL 语法中的 SELECT 语句进行介绍。\n",
    "\n",
    "-  SELECT 语句是 SQL 中最常用的语句，用可以用来从数据表中选取数据。SELECT 语句的基本格式为：SELECT 要查询的列名 FROM 表名字，例如上文中使用 * 替代要查询的列名，即输出全部数据。当然，你可以只查询 A 列的数据。"
   ],
   "cell_type": "markdown",
   "metadata": {}
  }
 ]
}